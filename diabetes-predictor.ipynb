{
 "cells": [
  {
   "cell_type": "code",
   "execution_count": 1,
   "id": "de1bfb59",
   "metadata": {
    "_cell_guid": "b1076dfc-b9ad-4769-8c92-a6c4dae69d19",
    "_uuid": "8f2839f25d086af736a60e9eeb907d3b93b6e0e5",
    "execution": {
     "iopub.execute_input": "2022-06-02T06:50:00.724773Z",
     "iopub.status.busy": "2022-06-02T06:50:00.724145Z",
     "iopub.status.idle": "2022-06-02T06:50:00.745632Z",
     "shell.execute_reply": "2022-06-02T06:50:00.744708Z"
    },
    "papermill": {
     "duration": 0.037362,
     "end_time": "2022-06-02T06:50:00.748935",
     "exception": false,
     "start_time": "2022-06-02T06:50:00.711573",
     "status": "completed"
    },
    "tags": []
   },
   "outputs": [
    {
     "name": "stdout",
     "output_type": "stream",
     "text": [
      "/kaggle/input/pima-indians-diabetes-database/diabetes.csv\n"
     ]
    }
   ],
   "source": [
    "# This Python 3 environment comes with many helpful analytics libraries installed\n",
    "# It is defined by the kaggle/python Docker image: https://github.com/kaggle/docker-python\n",
    "# For example, here's several helpful packages to load\n",
    "\n",
    "import numpy as np # linear algebra\n",
    "import pandas as pd # data processing, CSV file I/O (e.g. pd.read_csv)\n",
    "\n",
    "# Input data files are available in the read-only \"../input/\" directory\n",
    "# For example, running this (by clicking run or pressing Shift+Enter) will list all files under the input directory\n",
    "\n",
    "import os\n",
    "for dirname, _, filenames in os.walk('/kaggle/input'):\n",
    "    for filename in filenames:\n",
    "        print(os.path.join(dirname, filename))\n",
    "\n",
    "# You can write up to 20GB to the current directory (/kaggle/working/) that gets preserved as output when you create a version using \"Save & Run All\" \n",
    "# You can also write temporary files to /kaggle/temp/, but they won't be saved outside of the current session"
   ]
  },
  {
   "cell_type": "code",
   "execution_count": 2,
   "id": "6005fd7b",
   "metadata": {
    "execution": {
     "iopub.execute_input": "2022-06-02T06:50:00.773564Z",
     "iopub.status.busy": "2022-06-02T06:50:00.772508Z",
     "iopub.status.idle": "2022-06-02T06:50:00.791760Z",
     "shell.execute_reply": "2022-06-02T06:50:00.790796Z"
    },
    "papermill": {
     "duration": 0.033148,
     "end_time": "2022-06-02T06:50:00.794062",
     "exception": false,
     "start_time": "2022-06-02T06:50:00.760914",
     "status": "completed"
    },
    "tags": []
   },
   "outputs": [],
   "source": [
    "df=pd.read_csv('../input/pima-indians-diabetes-database/diabetes.csv')"
   ]
  },
  {
   "cell_type": "code",
   "execution_count": 3,
   "id": "b2ca239d",
   "metadata": {
    "execution": {
     "iopub.execute_input": "2022-06-02T06:50:00.815593Z",
     "iopub.status.busy": "2022-06-02T06:50:00.815183Z",
     "iopub.status.idle": "2022-06-02T06:50:00.843919Z",
     "shell.execute_reply": "2022-06-02T06:50:00.843217Z"
    },
    "papermill": {
     "duration": 0.041784,
     "end_time": "2022-06-02T06:50:00.845761",
     "exception": false,
     "start_time": "2022-06-02T06:50:00.803977",
     "status": "completed"
    },
    "tags": []
   },
   "outputs": [
    {
     "data": {
      "text/html": [
       "<div>\n",
       "<style scoped>\n",
       "    .dataframe tbody tr th:only-of-type {\n",
       "        vertical-align: middle;\n",
       "    }\n",
       "\n",
       "    .dataframe tbody tr th {\n",
       "        vertical-align: top;\n",
       "    }\n",
       "\n",
       "    .dataframe thead th {\n",
       "        text-align: right;\n",
       "    }\n",
       "</style>\n",
       "<table border=\"1\" class=\"dataframe\">\n",
       "  <thead>\n",
       "    <tr style=\"text-align: right;\">\n",
       "      <th></th>\n",
       "      <th>Pregnancies</th>\n",
       "      <th>Glucose</th>\n",
       "      <th>BloodPressure</th>\n",
       "      <th>SkinThickness</th>\n",
       "      <th>Insulin</th>\n",
       "      <th>BMI</th>\n",
       "      <th>DiabetesPedigreeFunction</th>\n",
       "      <th>Age</th>\n",
       "      <th>Outcome</th>\n",
       "    </tr>\n",
       "  </thead>\n",
       "  <tbody>\n",
       "    <tr>\n",
       "      <th>0</th>\n",
       "      <td>6</td>\n",
       "      <td>148</td>\n",
       "      <td>72</td>\n",
       "      <td>35</td>\n",
       "      <td>0</td>\n",
       "      <td>33.6</td>\n",
       "      <td>0.627</td>\n",
       "      <td>50</td>\n",
       "      <td>1</td>\n",
       "    </tr>\n",
       "    <tr>\n",
       "      <th>1</th>\n",
       "      <td>1</td>\n",
       "      <td>85</td>\n",
       "      <td>66</td>\n",
       "      <td>29</td>\n",
       "      <td>0</td>\n",
       "      <td>26.6</td>\n",
       "      <td>0.351</td>\n",
       "      <td>31</td>\n",
       "      <td>0</td>\n",
       "    </tr>\n",
       "    <tr>\n",
       "      <th>2</th>\n",
       "      <td>8</td>\n",
       "      <td>183</td>\n",
       "      <td>64</td>\n",
       "      <td>0</td>\n",
       "      <td>0</td>\n",
       "      <td>23.3</td>\n",
       "      <td>0.672</td>\n",
       "      <td>32</td>\n",
       "      <td>1</td>\n",
       "    </tr>\n",
       "    <tr>\n",
       "      <th>3</th>\n",
       "      <td>1</td>\n",
       "      <td>89</td>\n",
       "      <td>66</td>\n",
       "      <td>23</td>\n",
       "      <td>94</td>\n",
       "      <td>28.1</td>\n",
       "      <td>0.167</td>\n",
       "      <td>21</td>\n",
       "      <td>0</td>\n",
       "    </tr>\n",
       "    <tr>\n",
       "      <th>4</th>\n",
       "      <td>0</td>\n",
       "      <td>137</td>\n",
       "      <td>40</td>\n",
       "      <td>35</td>\n",
       "      <td>168</td>\n",
       "      <td>43.1</td>\n",
       "      <td>2.288</td>\n",
       "      <td>33</td>\n",
       "      <td>1</td>\n",
       "    </tr>\n",
       "    <tr>\n",
       "      <th>...</th>\n",
       "      <td>...</td>\n",
       "      <td>...</td>\n",
       "      <td>...</td>\n",
       "      <td>...</td>\n",
       "      <td>...</td>\n",
       "      <td>...</td>\n",
       "      <td>...</td>\n",
       "      <td>...</td>\n",
       "      <td>...</td>\n",
       "    </tr>\n",
       "    <tr>\n",
       "      <th>763</th>\n",
       "      <td>10</td>\n",
       "      <td>101</td>\n",
       "      <td>76</td>\n",
       "      <td>48</td>\n",
       "      <td>180</td>\n",
       "      <td>32.9</td>\n",
       "      <td>0.171</td>\n",
       "      <td>63</td>\n",
       "      <td>0</td>\n",
       "    </tr>\n",
       "    <tr>\n",
       "      <th>764</th>\n",
       "      <td>2</td>\n",
       "      <td>122</td>\n",
       "      <td>70</td>\n",
       "      <td>27</td>\n",
       "      <td>0</td>\n",
       "      <td>36.8</td>\n",
       "      <td>0.340</td>\n",
       "      <td>27</td>\n",
       "      <td>0</td>\n",
       "    </tr>\n",
       "    <tr>\n",
       "      <th>765</th>\n",
       "      <td>5</td>\n",
       "      <td>121</td>\n",
       "      <td>72</td>\n",
       "      <td>23</td>\n",
       "      <td>112</td>\n",
       "      <td>26.2</td>\n",
       "      <td>0.245</td>\n",
       "      <td>30</td>\n",
       "      <td>0</td>\n",
       "    </tr>\n",
       "    <tr>\n",
       "      <th>766</th>\n",
       "      <td>1</td>\n",
       "      <td>126</td>\n",
       "      <td>60</td>\n",
       "      <td>0</td>\n",
       "      <td>0</td>\n",
       "      <td>30.1</td>\n",
       "      <td>0.349</td>\n",
       "      <td>47</td>\n",
       "      <td>1</td>\n",
       "    </tr>\n",
       "    <tr>\n",
       "      <th>767</th>\n",
       "      <td>1</td>\n",
       "      <td>93</td>\n",
       "      <td>70</td>\n",
       "      <td>31</td>\n",
       "      <td>0</td>\n",
       "      <td>30.4</td>\n",
       "      <td>0.315</td>\n",
       "      <td>23</td>\n",
       "      <td>0</td>\n",
       "    </tr>\n",
       "  </tbody>\n",
       "</table>\n",
       "<p>768 rows × 9 columns</p>\n",
       "</div>"
      ],
      "text/plain": [
       "     Pregnancies  Glucose  BloodPressure  SkinThickness  Insulin   BMI  \\\n",
       "0              6      148             72             35        0  33.6   \n",
       "1              1       85             66             29        0  26.6   \n",
       "2              8      183             64              0        0  23.3   \n",
       "3              1       89             66             23       94  28.1   \n",
       "4              0      137             40             35      168  43.1   \n",
       "..           ...      ...            ...            ...      ...   ...   \n",
       "763           10      101             76             48      180  32.9   \n",
       "764            2      122             70             27        0  36.8   \n",
       "765            5      121             72             23      112  26.2   \n",
       "766            1      126             60              0        0  30.1   \n",
       "767            1       93             70             31        0  30.4   \n",
       "\n",
       "     DiabetesPedigreeFunction  Age  Outcome  \n",
       "0                       0.627   50        1  \n",
       "1                       0.351   31        0  \n",
       "2                       0.672   32        1  \n",
       "3                       0.167   21        0  \n",
       "4                       2.288   33        1  \n",
       "..                        ...  ...      ...  \n",
       "763                     0.171   63        0  \n",
       "764                     0.340   27        0  \n",
       "765                     0.245   30        0  \n",
       "766                     0.349   47        1  \n",
       "767                     0.315   23        0  \n",
       "\n",
       "[768 rows x 9 columns]"
      ]
     },
     "execution_count": 3,
     "metadata": {},
     "output_type": "execute_result"
    }
   ],
   "source": [
    "df"
   ]
  },
  {
   "cell_type": "code",
   "execution_count": 4,
   "id": "da60fe9f",
   "metadata": {
    "execution": {
     "iopub.execute_input": "2022-06-02T06:50:00.868451Z",
     "iopub.status.busy": "2022-06-02T06:50:00.867583Z",
     "iopub.status.idle": "2022-06-02T06:50:00.883233Z",
     "shell.execute_reply": "2022-06-02T06:50:00.882377Z"
    },
    "papermill": {
     "duration": 0.028981,
     "end_time": "2022-06-02T06:50:00.885376",
     "exception": false,
     "start_time": "2022-06-02T06:50:00.856395",
     "status": "completed"
    },
    "tags": []
   },
   "outputs": [
    {
     "data": {
      "text/plain": [
       "False"
      ]
     },
     "execution_count": 4,
     "metadata": {},
     "output_type": "execute_result"
    }
   ],
   "source": [
    "df.duplicated().any()"
   ]
  },
  {
   "cell_type": "code",
   "execution_count": 5,
   "id": "37cb5031",
   "metadata": {
    "execution": {
     "iopub.execute_input": "2022-06-02T06:50:00.908197Z",
     "iopub.status.busy": "2022-06-02T06:50:00.907592Z",
     "iopub.status.idle": "2022-06-02T06:50:00.915690Z",
     "shell.execute_reply": "2022-06-02T06:50:00.914686Z"
    },
    "papermill": {
     "duration": 0.022222,
     "end_time": "2022-06-02T06:50:00.917919",
     "exception": false,
     "start_time": "2022-06-02T06:50:00.895697",
     "status": "completed"
    },
    "tags": []
   },
   "outputs": [
    {
     "data": {
      "text/plain": [
       "Pregnancies                 False\n",
       "Glucose                     False\n",
       "BloodPressure               False\n",
       "SkinThickness               False\n",
       "Insulin                     False\n",
       "BMI                         False\n",
       "DiabetesPedigreeFunction    False\n",
       "Age                         False\n",
       "Outcome                     False\n",
       "dtype: bool"
      ]
     },
     "execution_count": 5,
     "metadata": {},
     "output_type": "execute_result"
    }
   ],
   "source": [
    "df.isna().any()"
   ]
  },
  {
   "cell_type": "code",
   "execution_count": 6,
   "id": "290480dd",
   "metadata": {
    "execution": {
     "iopub.execute_input": "2022-06-02T06:50:00.941595Z",
     "iopub.status.busy": "2022-06-02T06:50:00.940984Z",
     "iopub.status.idle": "2022-06-02T06:50:00.949584Z",
     "shell.execute_reply": "2022-06-02T06:50:00.948719Z"
    },
    "papermill": {
     "duration": 0.022638,
     "end_time": "2022-06-02T06:50:00.951547",
     "exception": false,
     "start_time": "2022-06-02T06:50:00.928909",
     "status": "completed"
    },
    "tags": []
   },
   "outputs": [
    {
     "data": {
      "text/plain": [
       "Pregnancies                 False\n",
       "Glucose                     False\n",
       "BloodPressure               False\n",
       "SkinThickness               False\n",
       "Insulin                     False\n",
       "BMI                         False\n",
       "DiabetesPedigreeFunction    False\n",
       "Age                         False\n",
       "Outcome                     False\n",
       "dtype: bool"
      ]
     },
     "execution_count": 6,
     "metadata": {},
     "output_type": "execute_result"
    }
   ],
   "source": [
    "df.isnull().any()"
   ]
  },
  {
   "cell_type": "code",
   "execution_count": 7,
   "id": "9e9c601d",
   "metadata": {
    "execution": {
     "iopub.execute_input": "2022-06-02T06:50:00.974248Z",
     "iopub.status.busy": "2022-06-02T06:50:00.973830Z",
     "iopub.status.idle": "2022-06-02T06:50:03.382883Z",
     "shell.execute_reply": "2022-06-02T06:50:03.382105Z"
    },
    "papermill": {
     "duration": 2.422485,
     "end_time": "2022-06-02T06:50:03.384818",
     "exception": false,
     "start_time": "2022-06-02T06:50:00.962333",
     "status": "completed"
    },
    "tags": []
   },
   "outputs": [
    {
     "data": {
      "image/png": "[encoded data removed]",
      "text/plain": [
       "<Figure size 1296x864 with 9 Axes>"
      ]
     },
     "metadata": {
      "needs_background": "light"
     },
     "output_type": "display_data"
    }
   ],
   "source": [
    "import matplotlib.pyplot as plt\n",
    "import seaborn as sns\n",
    "df.hist(figsize=(18,12))\n",
    "plt.show()"
   ]
  },
  {
   "cell_type": "code",
   "execution_count": 8,
   "id": "46f33e68",
   "metadata": {
    "execution": {
     "iopub.execute_input": "2022-06-02T06:50:03.409545Z",
     "iopub.status.busy": "2022-06-02T06:50:03.409040Z",
     "iopub.status.idle": "2022-06-02T06:50:06.710568Z",
     "shell.execute_reply": "2022-06-02T06:50:06.708585Z"
    },
    "papermill": {
     "duration": 3.316547,
     "end_time": "2022-06-02T06:50:06.712888",
     "exception": false,
     "start_time": "2022-06-02T06:50:03.396341",
     "status": "completed"
    },
    "tags": []
   },
   "outputs": [
    {
     "data": {
      "text/plain": [
       "<AxesSubplot:xlabel='Glucose', ylabel='BMI'>"
      ]
     },
     "execution_count": 8,
     "metadata": {},
     "output_type": "execute_result"
    },
    {
     "data": {
      "image/png": "[encoded data removed]",
      "text/plain": [
       "<Figure size 432x288 with 1 Axes>"
      ]
     },
     "metadata": {
      "needs_background": "light"
     },
     "output_type": "display_data"
    }
   ],
   "source": [
    "sns.lineplot(x='Glucose', y= 'BMI', data=df)"
   ]
  },
  {
   "cell_type": "code",
   "execution_count": 9,
   "id": "a3335add",
   "metadata": {
    "execution": {
     "iopub.execute_input": "2022-06-02T06:50:06.739519Z",
     "iopub.status.busy": "2022-06-02T06:50:06.739115Z",
     "iopub.status.idle": "2022-06-02T06:50:10.065823Z",
     "shell.execute_reply": "2022-06-02T06:50:10.065095Z"
    },
    "papermill": {
     "duration": 3.34279,
     "end_time": "2022-06-02T06:50:10.067885",
     "exception": false,
     "start_time": "2022-06-02T06:50:06.725095",
     "status": "completed"
    },
    "tags": []
   },
   "outputs": [
    {
     "data": {
      "text/plain": [
       "<AxesSubplot:xlabel='Glucose', ylabel='Insulin'>"
      ]
     },
     "execution_count": 9,
     "metadata": {},
     "output_type": "execute_result"
    },
    {
     "data": {
      "image/png": "[encoded data removed]",
      "text/plain": [
       "<Figure size 432x288 with 1 Axes>"
      ]
     },
     "metadata": {
      "needs_background": "light"
     },
     "output_type": "display_data"
    }
   ],
   "source": [
    "sns.lineplot(x='Glucose', y= 'Insulin', data=df)"
   ]
  },
  {
   "cell_type": "code",
   "execution_count": 10,
   "id": "f904015b",
   "metadata": {
    "execution": {
     "iopub.execute_input": "2022-06-02T06:50:10.096140Z",
     "iopub.status.busy": "2022-06-02T06:50:10.095399Z",
     "iopub.status.idle": "2022-06-02T06:50:11.427620Z",
     "shell.execute_reply": "2022-06-02T06:50:11.426638Z"
    },
    "papermill": {
     "duration": 1.348794,
     "end_time": "2022-06-02T06:50:11.429928",
     "exception": false,
     "start_time": "2022-06-02T06:50:10.081134",
     "status": "completed"
    },
    "tags": []
   },
   "outputs": [
    {
     "data": {
      "image/png": "[encoded data removed]",
      "text/plain": [
       "<Figure size 1296x360 with 1 Axes>"
      ]
     },
     "metadata": {
      "needs_background": "light"
     },
     "output_type": "display_data"
    }
   ],
   "source": [
    "\n",
    "f, ax = plt.subplots(figsize=(18,5))\n",
    "sns.barplot(x=\"SkinThickness\", y=\"Insulin\", data=df[0:180])\n",
    "plt.title(\"SkinThickness vs Insulin\",fontsize=15)\n",
    "plt.xlabel(\"SkinThickness\")\n",
    "plt.ylabel(\"Insulin\")\n",
    "plt.show()\n",
    "plt.style.use(\"ggplot\")"
   ]
  },
  {
   "cell_type": "code",
   "execution_count": 11,
   "id": "3f4c11a7",
   "metadata": {
    "execution": {
     "iopub.execute_input": "2022-06-02T06:50:11.458029Z",
     "iopub.status.busy": "2022-06-02T06:50:11.457478Z",
     "iopub.status.idle": "2022-06-02T06:50:11.464253Z",
     "shell.execute_reply": "2022-06-02T06:50:11.463399Z"
    },
    "papermill": {
     "duration": 0.023147,
     "end_time": "2022-06-02T06:50:11.466197",
     "exception": false,
     "start_time": "2022-06-02T06:50:11.443050",
     "status": "completed"
    },
    "tags": []
   },
   "outputs": [
    {
     "data": {
      "text/plain": [
       "array([148,  85, 183,  89, 137, 116,  78, 115, 197, 125, 110, 168, 139,\n",
       "       189, 166, 100, 118, 107, 103, 126,  99, 196, 119, 143, 147,  97,\n",
       "       145, 117, 109, 158,  88,  92, 122, 138, 102,  90, 111, 180, 133,\n",
       "       106, 171, 159, 146,  71, 105, 101, 176, 150,  73, 187,  84,  44,\n",
       "       141, 114,  95, 129,  79,   0,  62, 131, 112, 113,  74,  83, 136,\n",
       "        80, 123,  81, 134, 142, 144,  93, 163, 151,  96, 155,  76, 160,\n",
       "       124, 162, 132, 120, 173, 170, 128, 108, 154,  57, 156, 153, 188,\n",
       "       152, 104,  87,  75, 179, 130, 194, 181, 135, 184, 140, 177, 164,\n",
       "        91, 165,  86, 193, 191, 161, 167,  77, 182, 157, 178,  61,  98,\n",
       "       127,  82,  72, 172,  94, 175, 195,  68, 186, 198, 121,  67, 174,\n",
       "       199,  56, 169, 149,  65, 190])"
      ]
     },
     "execution_count": 11,
     "metadata": {},
     "output_type": "execute_result"
    }
   ],
   "source": [
    "df['Glucose'].unique()"
   ]
  },
  {
   "cell_type": "code",
   "execution_count": 12,
   "id": "c8bda4ea",
   "metadata": {
    "execution": {
     "iopub.execute_input": "2022-06-02T06:50:11.494273Z",
     "iopub.status.busy": "2022-06-02T06:50:11.493783Z",
     "iopub.status.idle": "2022-06-02T06:50:11.502115Z",
     "shell.execute_reply": "2022-06-02T06:50:11.501278Z"
    },
    "papermill": {
     "duration": 0.024794,
     "end_time": "2022-06-02T06:50:11.504138",
     "exception": false,
     "start_time": "2022-06-02T06:50:11.479344",
     "status": "completed"
    },
    "tags": []
   },
   "outputs": [],
   "source": [
    "df = df.set_index(\"Glucose\")\n",
    "df = df.drop([0,])"
   ]
  },
  {
   "cell_type": "code",
   "execution_count": 13,
   "id": "197b1107",
   "metadata": {
    "execution": {
     "iopub.execute_input": "2022-06-02T06:50:11.532361Z",
     "iopub.status.busy": "2022-06-02T06:50:11.531850Z",
     "iopub.status.idle": "2022-06-02T06:50:11.536105Z",
     "shell.execute_reply": "2022-06-02T06:50:11.535489Z"
    },
    "papermill": {
     "duration": 0.020398,
     "end_time": "2022-06-02T06:50:11.537920",
     "exception": false,
     "start_time": "2022-06-02T06:50:11.517522",
     "status": "completed"
    },
    "tags": []
   },
   "outputs": [],
   "source": [
    "df = df.reset_index()"
   ]
  },
  {
   "cell_type": "code",
   "execution_count": 14,
   "id": "ec44ff44",
   "metadata": {
    "execution": {
     "iopub.execute_input": "2022-06-02T06:50:11.566197Z",
     "iopub.status.busy": "2022-06-02T06:50:11.565689Z",
     "iopub.status.idle": "2022-06-02T06:50:11.579675Z",
     "shell.execute_reply": "2022-06-02T06:50:11.578225Z"
    },
    "papermill": {
     "duration": 0.03157,
     "end_time": "2022-06-02T06:50:11.583005",
     "exception": false,
     "start_time": "2022-06-02T06:50:11.551435",
     "status": "completed"
    },
    "tags": []
   },
   "outputs": [],
   "source": [
    "k=list(df.query('Outcome == 1')['Glucose'])"
   ]
  },
  {
   "cell_type": "code",
   "execution_count": 15,
   "id": "856ec518",
   "metadata": {
    "execution": {
     "iopub.execute_input": "2022-06-02T06:50:11.614512Z",
     "iopub.status.busy": "2022-06-02T06:50:11.613991Z",
     "iopub.status.idle": "2022-06-02T06:50:11.622058Z",
     "shell.execute_reply": "2022-06-02T06:50:11.620040Z"
    },
    "papermill": {
     "duration": 0.027156,
     "end_time": "2022-06-02T06:50:11.624902",
     "exception": false,
     "start_time": "2022-06-02T06:50:11.597746",
     "status": "completed"
    },
    "tags": []
   },
   "outputs": [],
   "source": [
    "d={}\n",
    "for i in k:\n",
    "    if i not in d:\n",
    "        d[i]=1\n",
    "    else:\n",
    "        d[i]+=1"
   ]
  },
  {
   "cell_type": "code",
   "execution_count": 16,
   "id": "80e7665b",
   "metadata": {
    "execution": {
     "iopub.execute_input": "2022-06-02T06:50:11.659549Z",
     "iopub.status.busy": "2022-06-02T06:50:11.659040Z",
     "iopub.status.idle": "2022-06-02T06:50:11.672792Z",
     "shell.execute_reply": "2022-06-02T06:50:11.671869Z"
    },
    "papermill": {
     "duration": 0.034321,
     "end_time": "2022-06-02T06:50:11.675631",
     "exception": false,
     "start_time": "2022-06-02T06:50:11.641310",
     "status": "completed"
    },
    "tags": []
   },
   "outputs": [
    {
     "data": {
      "text/plain": [
       "{148: 3,\n",
       " 183: 2,\n",
       " 137: 2,\n",
       " 78: 1,\n",
       " 197: 3,\n",
       " 125: 7,\n",
       " 168: 4,\n",
       " 189: 3,\n",
       " 166: 2,\n",
       " 100: 4,\n",
       " 118: 2,\n",
       " 107: 3,\n",
       " 115: 6,\n",
       " 196: 3,\n",
       " 119: 4,\n",
       " 143: 2,\n",
       " 147: 3,\n",
       " 158: 6,\n",
       " 102: 4,\n",
       " 90: 2,\n",
       " 111: 3,\n",
       " 171: 3,\n",
       " 180: 4,\n",
       " 103: 1,\n",
       " 176: 2,\n",
       " 187: 4,\n",
       " 133: 2,\n",
       " 114: 2,\n",
       " 109: 5,\n",
       " 126: 2,\n",
       " 131: 3,\n",
       " 136: 4,\n",
       " 134: 4,\n",
       " 122: 3,\n",
       " 163: 3,\n",
       " 95: 3,\n",
       " 155: 4,\n",
       " 160: 1,\n",
       " 146: 5,\n",
       " 124: 5,\n",
       " 162: 5,\n",
       " 113: 2,\n",
       " 88: 1,\n",
       " 117: 2,\n",
       " 105: 3,\n",
       " 173: 5,\n",
       " 170: 2,\n",
       " 108: 3,\n",
       " 156: 3,\n",
       " 188: 2,\n",
       " 152: 3,\n",
       " 104: 3,\n",
       " 179: 3,\n",
       " 129: 6,\n",
       " 130: 3,\n",
       " 194: 2,\n",
       " 181: 5,\n",
       " 128: 6,\n",
       " 139: 2,\n",
       " 159: 1,\n",
       " 135: 2,\n",
       " 184: 3,\n",
       " 140: 3,\n",
       " 112: 4,\n",
       " 151: 3,\n",
       " 85: 1,\n",
       " 177: 1,\n",
       " 142: 2,\n",
       " 164: 2,\n",
       " 92: 1,\n",
       " 141: 2,\n",
       " 123: 2,\n",
       " 138: 3,\n",
       " 101: 1,\n",
       " 106: 1,\n",
       " 161: 2,\n",
       " 167: 3,\n",
       " 144: 4,\n",
       " 182: 1,\n",
       " 178: 1,\n",
       " 165: 1,\n",
       " 116: 1,\n",
       " 193: 1,\n",
       " 172: 1,\n",
       " 175: 1,\n",
       " 120: 3,\n",
       " 145: 4,\n",
       " 195: 2,\n",
       " 84: 1,\n",
       " 132: 2,\n",
       " 186: 1,\n",
       " 198: 1,\n",
       " 121: 2,\n",
       " 150: 1,\n",
       " 174: 2,\n",
       " 97: 2,\n",
       " 80: 1,\n",
       " 199: 1,\n",
       " 169: 1,\n",
       " 93: 1,\n",
       " 149: 1,\n",
       " 154: 1,\n",
       " 190: 1}"
      ]
     },
     "execution_count": 16,
     "metadata": {},
     "output_type": "execute_result"
    }
   ],
   "source": [
    "d"
   ]
  },
  {
   "cell_type": "code",
   "execution_count": 17,
   "id": "92f01947",
   "metadata": {
    "execution": {
     "iopub.execute_input": "2022-06-02T06:50:11.705427Z",
     "iopub.status.busy": "2022-06-02T06:50:11.704845Z",
     "iopub.status.idle": "2022-06-02T06:50:12.140087Z",
     "shell.execute_reply": "2022-06-02T06:50:12.139109Z"
    },
    "papermill": {
     "duration": 0.452097,
     "end_time": "2022-06-02T06:50:12.142327",
     "exception": false,
     "start_time": "2022-06-02T06:50:11.690230",
     "status": "completed"
    },
    "tags": []
   },
   "outputs": [
    {
     "data": {
      "image/png": "[encoded data removed]",
      "text/plain": [
       "<Figure size 432x288 with 1 Axes>"
      ]
     },
     "metadata": {},
     "output_type": "display_data"
    }
   ],
   "source": [
    "plt.bar(d.keys(),\n",
    "            d.values(),width=0.9)\n",
    "# Show the plot\n",
    "plt.show()"
   ]
  },
  {
   "cell_type": "code",
   "execution_count": 18,
   "id": "c3a09f5d",
   "metadata": {
    "execution": {
     "iopub.execute_input": "2022-06-02T06:50:12.173085Z",
     "iopub.status.busy": "2022-06-02T06:50:12.172681Z",
     "iopub.status.idle": "2022-06-02T06:50:12.295756Z",
     "shell.execute_reply": "2022-06-02T06:50:12.294671Z"
    },
    "papermill": {
     "duration": 0.142277,
     "end_time": "2022-06-02T06:50:12.298680",
     "exception": false,
     "start_time": "2022-06-02T06:50:12.156403",
     "status": "completed"
    },
    "tags": []
   },
   "outputs": [
    {
     "data": {
      "text/plain": [
       "<AxesSubplot:>"
      ]
     },
     "execution_count": 18,
     "metadata": {},
     "output_type": "execute_result"
    },
    {
     "data": {
      "image/png": "[encoded data removed]",
      "text/plain": [
       "<Figure size 432x288 with 1 Axes>"
      ]
     },
     "metadata": {},
     "output_type": "display_data"
    }
   ],
   "source": [
    "k=df.query('Outcome==1')['Glucose']\n",
    "k\n",
    "k.plot(kind='box')"
   ]
  },
  {
   "cell_type": "code",
   "execution_count": 19,
   "id": "7e32ee9a",
   "metadata": {
    "execution": {
     "iopub.execute_input": "2022-06-02T06:50:12.329699Z",
     "iopub.status.busy": "2022-06-02T06:50:12.328120Z",
     "iopub.status.idle": "2022-06-02T06:50:12.337918Z",
     "shell.execute_reply": "2022-06-02T06:50:12.337189Z"
    },
    "papermill": {
     "duration": 0.027295,
     "end_time": "2022-06-02T06:50:12.339970",
     "exception": false,
     "start_time": "2022-06-02T06:50:12.312675",
     "status": "completed"
    },
    "tags": []
   },
   "outputs": [
    {
     "data": {
      "text/plain": [
       "0      148\n",
       "2      183\n",
       "4      137\n",
       "6       78\n",
       "8      197\n",
       "      ... \n",
       "750    128\n",
       "752    123\n",
       "754    190\n",
       "756    170\n",
       "761    126\n",
       "Name: Glucose, Length: 266, dtype: int64"
      ]
     },
     "execution_count": 19,
     "metadata": {},
     "output_type": "execute_result"
    }
   ],
   "source": [
    "k"
   ]
  },
  {
   "cell_type": "code",
   "execution_count": 20,
   "id": "064fd6f8",
   "metadata": {
    "execution": {
     "iopub.execute_input": "2022-06-02T06:50:12.370073Z",
     "iopub.status.busy": "2022-06-02T06:50:12.369477Z",
     "iopub.status.idle": "2022-06-02T06:50:12.971062Z",
     "shell.execute_reply": "2022-06-02T06:50:12.970344Z"
    },
    "papermill": {
     "duration": 0.61898,
     "end_time": "2022-06-02T06:50:12.973136",
     "exception": false,
     "start_time": "2022-06-02T06:50:12.354156",
     "status": "completed"
    },
    "tags": []
   },
   "outputs": [
    {
     "data": {
      "image/png": "[encoded data removed]",
      "text/plain": [
       "<Figure size 1440x1440 with 2 Axes>"
      ]
     },
     "metadata": {},
     "output_type": "display_data"
    }
   ],
   "source": [
    "plt.figure(figsize=(20,20))\n",
    "sns.heatmap(df.corr(),linewidths=0.5,annot=True)\n",
    "plt.show()"
   ]
  },
  {
   "cell_type": "code",
   "execution_count": 21,
   "id": "0759a758",
   "metadata": {
    "execution": {
     "iopub.execute_input": "2022-06-02T06:50:13.006109Z",
     "iopub.status.busy": "2022-06-02T06:50:13.005320Z",
     "iopub.status.idle": "2022-06-02T06:50:13.210339Z",
     "shell.execute_reply": "2022-06-02T06:50:13.209395Z"
    },
    "papermill": {
     "duration": 0.224068,
     "end_time": "2022-06-02T06:50:13.212748",
     "exception": false,
     "start_time": "2022-06-02T06:50:12.988680",
     "status": "completed"
    },
    "tags": []
   },
   "outputs": [],
   "source": [
    "from sklearn.model_selection import train_test_split"
   ]
  },
  {
   "cell_type": "code",
   "execution_count": 22,
   "id": "9f2c5dd5",
   "metadata": {
    "execution": {
     "iopub.execute_input": "2022-06-02T06:50:13.245198Z",
     "iopub.status.busy": "2022-06-02T06:50:13.244776Z",
     "iopub.status.idle": "2022-06-02T06:50:13.250982Z",
     "shell.execute_reply": "2022-06-02T06:50:13.250105Z"
    },
    "papermill": {
     "duration": 0.024507,
     "end_time": "2022-06-02T06:50:13.252911",
     "exception": false,
     "start_time": "2022-06-02T06:50:13.228404",
     "status": "completed"
    },
    "tags": []
   },
   "outputs": [],
   "source": [
    "X=df.drop(['BloodPressure','SkinThickness','Outcome'],axis=1)"
   ]
  },
  {
   "cell_type": "code",
   "execution_count": 23,
   "id": "68245ce9",
   "metadata": {
    "execution": {
     "iopub.execute_input": "2022-06-02T06:50:13.286990Z",
     "iopub.status.busy": "2022-06-02T06:50:13.286092Z",
     "iopub.status.idle": "2022-06-02T06:50:13.290316Z",
     "shell.execute_reply": "2022-06-02T06:50:13.289685Z"
    },
    "papermill": {
     "duration": 0.023441,
     "end_time": "2022-06-02T06:50:13.292259",
     "exception": false,
     "start_time": "2022-06-02T06:50:13.268818",
     "status": "completed"
    },
    "tags": []
   },
   "outputs": [],
   "source": [
    "y=df['Outcome']"
   ]
  },
  {
   "cell_type": "code",
   "execution_count": 24,
   "id": "8cd84630",
   "metadata": {
    "execution": {
     "iopub.execute_input": "2022-06-02T06:50:13.325640Z",
     "iopub.status.busy": "2022-06-02T06:50:13.324971Z",
     "iopub.status.idle": "2022-06-02T06:50:13.330796Z",
     "shell.execute_reply": "2022-06-02T06:50:13.330040Z"
    },
    "papermill": {
     "duration": 0.025081,
     "end_time": "2022-06-02T06:50:13.332963",
     "exception": false,
     "start_time": "2022-06-02T06:50:13.307882",
     "status": "completed"
    },
    "tags": []
   },
   "outputs": [],
   "source": [
    "X_train,X_test,y_train,y_test= train_test_split(X,y,test_size=0.18,random_state=0)"
   ]
  },
  {
   "cell_type": "code",
   "execution_count": 25,
   "id": "3d847a3b",
   "metadata": {
    "execution": {
     "iopub.execute_input": "2022-06-02T06:50:13.365973Z",
     "iopub.status.busy": "2022-06-02T06:50:13.365289Z",
     "iopub.status.idle": "2022-06-02T06:50:13.695777Z",
     "shell.execute_reply": "2022-06-02T06:50:13.694710Z"
    },
    "papermill": {
     "duration": 0.349844,
     "end_time": "2022-06-02T06:50:13.698249",
     "exception": false,
     "start_time": "2022-06-02T06:50:13.348405",
     "status": "completed"
    },
    "tags": []
   },
   "outputs": [],
   "source": [
    "from sklearn.pipeline import make_pipeline \n",
    "from sklearn.preprocessing import StandardScaler \n",
    "from sklearn.naive_bayes import GaussianNB\n",
    "from sklearn.linear_model import LogisticRegression, RidgeClassifier\n",
    "from sklearn.ensemble import RandomForestClassifier, GradientBoostingClassifier\n",
    "from xgboost import XGBClassifier \n",
    "from sklearn.tree import DecisionTreeClassifier, DecisionTreeRegressor\n",
    "from sklearn.svm import SVC\n",
    "from sklearn.ensemble import ExtraTreesClassifier"
   ]
  },
  {
   "cell_type": "code",
   "execution_count": 26,
   "id": "bae2b222",
   "metadata": {
    "execution": {
     "iopub.execute_input": "2022-06-02T06:50:13.730995Z",
     "iopub.status.busy": "2022-06-02T06:50:13.730210Z",
     "iopub.status.idle": "2022-06-02T06:50:13.739846Z",
     "shell.execute_reply": "2022-06-02T06:50:13.738935Z"
    },
    "papermill": {
     "duration": 0.02856,
     "end_time": "2022-06-02T06:50:13.742270",
     "exception": false,
     "start_time": "2022-06-02T06:50:13.713710",
     "status": "completed"
    },
    "tags": []
   },
   "outputs": [],
   "source": [
    "pipelines = {\n",
    "    'lr':make_pipeline(StandardScaler(), LogisticRegression()),\n",
    "    'rc':make_pipeline(StandardScaler(), RidgeClassifier()),\n",
    "    'rf':make_pipeline(StandardScaler(), RandomForestClassifier(n_estimators=1000)),\n",
    "    'gb':make_pipeline(StandardScaler(), GradientBoostingClassifier(n_estimators=1000,learning_rate=0.01)),\n",
    "    'gnb':make_pipeline(StandardScaler(), GaussianNB()),\n",
    "    'dtc':make_pipeline(StandardScaler(),DecisionTreeClassifier(criterion='entropy', max_depth=6, random_state=123)),\n",
    "    'svc':make_pipeline(StandardScaler(),SVC(kernel='rbf')),\n",
    "    'etc':make_pipeline(StandardScaler(),ExtraTreesClassifier(n_estimators=100, random_state=0)),\n",
    "    'xg':make_pipeline(StandardScaler(),XGBClassifier(objective ='reg:linear', colsample_bytree = 0.3, learning_rate = 0.1,\n",
    "                max_depth = 5, alpha = 10, n_estimators = 10))\n",
    "}"
   ]
  },
  {
   "cell_type": "code",
   "execution_count": 27,
   "id": "4567cdb1",
   "metadata": {
    "execution": {
     "iopub.execute_input": "2022-06-02T06:50:13.776010Z",
     "iopub.status.busy": "2022-06-02T06:50:13.775339Z",
     "iopub.status.idle": "2022-06-02T06:50:17.762554Z",
     "shell.execute_reply": "2022-06-02T06:50:17.761773Z"
    },
    "papermill": {
     "duration": 4.007852,
     "end_time": "2022-06-02T06:50:17.766080",
     "exception": false,
     "start_time": "2022-06-02T06:50:13.758228",
     "status": "completed"
    },
    "tags": []
   },
   "outputs": [
    {
     "name": "stdout",
     "output_type": "stream",
     "text": [
      "[06:50:17] WARNING: ../src/objective/regression_obj.cu:203: reg:linear is now deprecated in favor of reg:squarederror.\n"
     ]
    }
   ],
   "source": [
    "fit_models = {}\n",
    "for algo, pipeline in pipelines.items():\n",
    "    model = pipeline.fit(X_train, y_train)\n",
    "    fit_models[algo] = model"
   ]
  },
  {
   "cell_type": "code",
   "execution_count": 28,
   "id": "e50b3757",
   "metadata": {
    "execution": {
     "iopub.execute_input": "2022-06-02T06:50:17.803189Z",
     "iopub.status.busy": "2022-06-02T06:50:17.802785Z",
     "iopub.status.idle": "2022-06-02T06:50:18.008331Z",
     "shell.execute_reply": "2022-06-02T06:50:18.006978Z"
    },
    "papermill": {
     "duration": 0.226617,
     "end_time": "2022-06-02T06:50:18.011767",
     "exception": false,
     "start_time": "2022-06-02T06:50:17.785150",
     "status": "completed"
    },
    "tags": []
   },
   "outputs": [
    {
     "name": "stdout",
     "output_type": "stream",
     "text": [
      "lr 0.7753623188405797\n",
      "rc 0.782608695652174\n",
      "rf 0.7536231884057971\n",
      "gb 0.7463768115942029\n",
      "gnb 0.7463768115942029\n",
      "dtc 0.7608695652173914\n",
      "svc 0.8043478260869565\n",
      "etc 0.8188405797101449\n",
      "xg 0.7681159420289855\n"
     ]
    }
   ],
   "source": [
    "from sklearn.metrics import accuracy_score\n",
    "\n",
    "al=[]\n",
    "ac=[]\n",
    "for algo, model in fit_models.items():\n",
    "    yhat = model.predict(X_test)\n",
    "    al.append(algo)\n",
    "    ac.append(accuracy_score(y_test, yhat))\n",
    "    print(algo, accuracy_score(y_test, yhat))"
   ]
  },
  {
   "cell_type": "code",
   "execution_count": 29,
   "id": "972c35a0",
   "metadata": {
    "execution": {
     "iopub.execute_input": "2022-06-02T06:50:18.047258Z",
     "iopub.status.busy": "2022-06-02T06:50:18.046891Z",
     "iopub.status.idle": "2022-06-02T06:50:18.053449Z",
     "shell.execute_reply": "2022-06-02T06:50:18.052810Z"
    },
    "papermill": {
     "duration": 0.024884,
     "end_time": "2022-06-02T06:50:18.055134",
     "exception": false,
     "start_time": "2022-06-02T06:50:18.030250",
     "status": "completed"
    },
    "tags": []
   },
   "outputs": [
    {
     "data": {
      "text/plain": [
       "[77.54, 78.26, 75.36, 74.64, 74.64, 76.09, 80.43, 81.88, 76.81]"
      ]
     },
     "execution_count": 29,
     "metadata": {},
     "output_type": "execute_result"
    }
   ],
   "source": [
    "for i in range(0,len(ac)):\n",
    "  ac[i]=round(ac[i]*100,2)\n",
    "ac"
   ]
  },
  {
   "cell_type": "code",
   "execution_count": 30,
   "id": "8fce6f33",
   "metadata": {
    "execution": {
     "iopub.execute_input": "2022-06-02T06:50:18.088799Z",
     "iopub.status.busy": "2022-06-02T06:50:18.088384Z",
     "iopub.status.idle": "2022-06-02T06:50:18.286651Z",
     "shell.execute_reply": "2022-06-02T06:50:18.284809Z"
    },
    "papermill": {
     "duration": 0.217919,
     "end_time": "2022-06-02T06:50:18.289057",
     "exception": false,
     "start_time": "2022-06-02T06:50:18.071138",
     "status": "completed"
    },
    "tags": []
   },
   "outputs": [
    {
     "name": "stderr",
     "output_type": "stream",
     "text": [
      "/opt/conda/lib/python3.7/site-packages/seaborn/_decorators.py:43: FutureWarning: Pass the following variables as keyword args: x, y. From version 0.12, the only valid positional argument will be `data`, and passing other arguments without an explicit keyword will result in an error or misinterpretation.\n",
      "  FutureWarning\n"
     ]
    },
    {
     "data": {
      "image/png": "[encoded data removed]",
      "text/plain": [
       "<Figure size 576x576 with 1 Axes>"
      ]
     },
     "metadata": {
      "needs_background": "light"
     },
     "output_type": "display_data"
    }
   ],
   "source": [
    "\n",
    "%matplotlib inline\n",
    "plt.figure(figsize=(8,8))\n",
    "plt.xlabel('ML Algorithms...')\n",
    "plt.ylabel('Accuracies...')\n",
    "ax=sns.barplot(al,ac)\n",
    "#ax.bar_label(ax.containers[0])\n",
    "plt.show()"
   ]
  },
  {
   "cell_type": "code",
   "execution_count": 31,
   "id": "28cef80e",
   "metadata": {
    "execution": {
     "iopub.execute_input": "2022-06-02T06:50:18.324548Z",
     "iopub.status.busy": "2022-06-02T06:50:18.323898Z",
     "iopub.status.idle": "2022-06-02T06:50:18.328795Z",
     "shell.execute_reply": "2022-06-02T06:50:18.327931Z"
    },
    "papermill": {
     "duration": 0.025438,
     "end_time": "2022-06-02T06:50:18.330910",
     "exception": false,
     "start_time": "2022-06-02T06:50:18.305472",
     "status": "completed"
    },
    "tags": []
   },
   "outputs": [],
   "source": [
    "from sklearn.model_selection import cross_val_score\n"
   ]
  },
  {
   "cell_type": "code",
   "execution_count": 32,
   "id": "9fa6e997",
   "metadata": {
    "execution": {
     "iopub.execute_input": "2022-06-02T06:50:18.365405Z",
     "iopub.status.busy": "2022-06-02T06:50:18.364684Z",
     "iopub.status.idle": "2022-06-02T06:50:22.198572Z",
     "shell.execute_reply": "2022-06-02T06:50:22.197443Z"
    },
    "papermill": {
     "duration": 3.853775,
     "end_time": "2022-06-02T06:50:22.200740",
     "exception": false,
     "start_time": "2022-06-02T06:50:18.346965",
     "status": "completed"
    },
    "tags": []
   },
   "outputs": [
    {
     "name": "stdout",
     "output_type": "stream",
     "text": [
      "[0.75686275 0.7480315  0.77952756]\n",
      "Avg : 0.7614739334053832\n"
     ]
    }
   ],
   "source": [
    "score_lr=cross_val_score(pipelines['gb'], X, y,cv=3)\n",
    "print(score_lr)\n",
    "print(\"Avg :\",np.average(score_lr))"
   ]
  },
  {
   "cell_type": "code",
   "execution_count": 33,
   "id": "fc61a582",
   "metadata": {
    "execution": {
     "iopub.execute_input": "2022-06-02T06:50:22.235215Z",
     "iopub.status.busy": "2022-06-02T06:50:22.234177Z",
     "iopub.status.idle": "2022-06-02T06:50:59.670028Z",
     "shell.execute_reply": "2022-06-02T06:50:59.669319Z"
    },
    "papermill": {
     "duration": 37.455307,
     "end_time": "2022-06-02T06:50:59.672236",
     "exception": false,
     "start_time": "2022-06-02T06:50:22.216929",
     "status": "completed"
    },
    "tags": []
   },
   "outputs": [
    {
     "name": "stdout",
     "output_type": "stream",
     "text": [
      "LogisticRegression()\n",
      "Avg : 0.7654528478057889\n",
      "RidgeClassifier()\n",
      "Avg : 0.7628384687208216\n",
      "RandomForestClassifier(n_estimators=1000)\n",
      "Avg : 0.769327731092437\n",
      "GradientBoostingClassifier(learning_rate=0.01, n_estimators=1000)\n",
      "Avg : 0.7549486461251167\n",
      "GaussianNB()\n",
      "Avg : 0.7536881419234361\n",
      "DecisionTreeClassifier(criterion='entropy', max_depth=6, random_state=123)\n",
      "Avg : 0.7169623404917522\n",
      "SVC()\n",
      "Avg : 0.7746187363834423\n",
      "ExtraTreesClassifier(random_state=0)\n",
      "Avg : 0.7720043572984749\n",
      "XGBClassifier(alpha=10, base_score=0.5, booster='gbtree', callbacks=None,\n",
      "              colsample_bylevel=1, colsample_bynode=1, colsample_bytree=0.3,\n",
      "              early_stopping_rounds=None, enable_categorical=False,\n",
      "              eval_metric=None, gamma=0, gpu_id=-1, grow_policy='depthwise',\n",
      "              importance_type=None, interaction_constraints='',\n",
      "              learning_rate=0.1, max_bin=256, max_cat_to_onehot=4,\n",
      "              max_delta_step=0, max_depth=5, max_leaves=0, min_child_weight=1,\n",
      "              missing=nan, monotone_constraints='()', n_estimators=10, n_jobs=0,\n",
      "              num_parallel_tree=1, objective='reg:linear', predictor='auto',\n",
      "              random_state=0, ...)\n",
      "[06:50:59] WARNING: ../src/objective/regression_obj.cu:203: reg:linear is now deprecated in favor of reg:squarederror.\n",
      "[06:50:59] WARNING: ../src/objective/regression_obj.cu:203: reg:linear is now deprecated in favor of reg:squarederror.\n",
      "[06:50:59] WARNING: ../src/objective/regression_obj.cu:203: reg:linear is now deprecated in favor of reg:squarederror.\n",
      "[06:50:59] WARNING: ../src/objective/regression_obj.cu:203: reg:linear is now deprecated in favor of reg:squarederror.\n",
      "[06:50:59] WARNING: ../src/objective/regression_obj.cu:203: reg:linear is now deprecated in favor of reg:squarederror.\n",
      "[06:50:59] WARNING: ../src/objective/regression_obj.cu:203: reg:linear is now deprecated in favor of reg:squarederror.\n",
      "[06:50:59] WARNING: ../src/objective/regression_obj.cu:203: reg:linear is now deprecated in favor of reg:squarederror.\n",
      "[06:50:59] WARNING: ../src/objective/regression_obj.cu:203: reg:linear is now deprecated in favor of reg:squarederror.\n",
      "[06:50:59] WARNING: ../src/objective/regression_obj.cu:203: reg:linear is now deprecated in favor of reg:squarederror.\n",
      "Avg : 0.7431061313414254\n"
     ]
    }
   ],
   "source": [
    "for i in pipelines:\n",
    "    print(pipelines[i][1])\n",
    "    score_lr=cross_val_score(pipelines[i], X, y,cv=9)\n",
    "    #print(score_lr)\n",
    "    print(\"Avg :\",np.average(score_lr))"
   ]
  },
  {
   "cell_type": "code",
   "execution_count": null,
   "id": "a20eff66",
   "metadata": {
    "papermill": {
     "duration": 0.016278,
     "end_time": "2022-06-02T06:50:59.707108",
     "exception": false,
     "start_time": "2022-06-02T06:50:59.690830",
     "status": "completed"
    },
    "tags": []
   },
   "outputs": [],
   "source": []
  },
  {
   "cell_type": "markdown",
   "id": "64fbfd43",
   "metadata": {
    "papermill": {
     "duration": 0.016083,
     "end_time": "2022-06-02T06:50:59.739737",
     "exception": false,
     "start_time": "2022-06-02T06:50:59.723654",
     "status": "completed"
    },
    "tags": []
   },
   "source": [
    "**IF YOU LIKE THIS NOTEBOOK... PLEASE DO UPVOTE**"
   ]
  },
  {
   "cell_type": "markdown",
   "id": "b2042509",
   "metadata": {
    "papermill": {
     "duration": 0.016053,
     "end_time": "2022-06-02T06:50:59.772282",
     "exception": false,
     "start_time": "2022-06-02T06:50:59.756229",
     "status": "completed"
    },
    "tags": []
   },
   "source": []
  }
 ],
 "metadata": {
  "kernelspec": {
   "display_name": "Python 3",
   "language": "python",
   "name": "python3"
  },
  "language_info": {
   "codemirror_mode": {
    "name": "ipython",
    "version": 3
   },
   "file_extension": ".py",
   "mimetype": "text/x-python",
   "name": "python",
   "nbconvert_exporter": "python",
   "pygments_lexer": "ipython3",
   "version": "3.7.12"
  },
  "papermill": {
   "default_parameters": {},
   "duration": 69.771552,
   "end_time": "2022-06-02T06:51:00.609628",
   "environment_variables": {},
   "exception": null,
   "input_path": "__notebook__.ipynb",
   "output_path": "__notebook__.ipynb",
   "parameters": {},
   "start_time": "2022-06-02T06:49:50.838076",
   "version": "2.3.4"
  }
 },
 "nbformat": 4,
 "nbformat_minor": 5
}
